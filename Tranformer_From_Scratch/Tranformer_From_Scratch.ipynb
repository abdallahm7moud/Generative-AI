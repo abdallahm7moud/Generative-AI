{
  "nbformat": 4,
  "nbformat_minor": 0,
  "metadata": {
    "colab": {
      "provenance": [],
      "gpuType": "T4"
    },
    "kernelspec": {
      "name": "python3",
      "display_name": "Python 3"
    },
    "language_info": {
      "name": "python"
    },
    "accelerator": "GPU"
  },
  "cells": [
    {
      "cell_type": "markdown",
      "source": [
        " Required Libraries"
      ],
      "metadata": {
        "id": "EGakMb9iz6JT"
      }
    },
    {
      "cell_type": "code",
      "execution_count": null,
      "metadata": {
        "colab": {
          "base_uri": "https://localhost:8080/"
        },
        "id": "39PzILeAv2_q",
        "outputId": "68719d83-4405-40ab-bdc4-113c68af2473"
      },
      "outputs": [
        {
          "output_type": "stream",
          "name": "stdout",
          "text": [
            "Error: Command '['/content/llm_lab/bin/python3', '-m', 'ensurepip', '--upgrade', '--default-pip']' returned non-zero exit status 1.\n",
            "/bin/bash: line 1: llm_lab/bin/activate: No such file or directory\n",
            "Requirement already satisfied: numpy in /usr/local/lib/python3.11/dist-packages (2.0.2)\n",
            "Requirement already satisfied: torch in /usr/local/lib/python3.11/dist-packages (2.6.0+cu124)\n",
            "Requirement already satisfied: matplotlib in /usr/local/lib/python3.11/dist-packages (3.10.0)\n",
            "Requirement already satisfied: jupyter in /usr/local/lib/python3.11/dist-packages (1.1.1)\n",
            "Requirement already satisfied: filelock in /usr/local/lib/python3.11/dist-packages (from torch) (3.18.0)\n",
            "Requirement already satisfied: typing-extensions>=4.10.0 in /usr/local/lib/python3.11/dist-packages (from torch) (4.13.2)\n",
            "Requirement already satisfied: networkx in /usr/local/lib/python3.11/dist-packages (from torch) (3.4.2)\n",
            "Requirement already satisfied: jinja2 in /usr/local/lib/python3.11/dist-packages (from torch) (3.1.6)\n",
            "Requirement already satisfied: fsspec in /usr/local/lib/python3.11/dist-packages (from torch) (2025.3.2)\n",
            "Requirement already satisfied: nvidia-cuda-nvrtc-cu12==12.4.127 in /usr/local/lib/python3.11/dist-packages (from torch) (12.4.127)\n",
            "Requirement already satisfied: nvidia-cuda-runtime-cu12==12.4.127 in /usr/local/lib/python3.11/dist-packages (from torch) (12.4.127)\n",
            "Requirement already satisfied: nvidia-cuda-cupti-cu12==12.4.127 in /usr/local/lib/python3.11/dist-packages (from torch) (12.4.127)\n",
            "Requirement already satisfied: nvidia-cudnn-cu12==9.1.0.70 in /usr/local/lib/python3.11/dist-packages (from torch) (9.1.0.70)\n",
            "Requirement already satisfied: nvidia-cublas-cu12==12.4.5.8 in /usr/local/lib/python3.11/dist-packages (from torch) (12.4.5.8)\n",
            "Requirement already satisfied: nvidia-cufft-cu12==11.2.1.3 in /usr/local/lib/python3.11/dist-packages (from torch) (11.2.1.3)\n",
            "Requirement already satisfied: nvidia-curand-cu12==10.3.5.147 in /usr/local/lib/python3.11/dist-packages (from torch) (10.3.5.147)\n",
            "Requirement already satisfied: nvidia-cusolver-cu12==11.6.1.9 in /usr/local/lib/python3.11/dist-packages (from torch) (11.6.1.9)\n",
            "Requirement already satisfied: nvidia-cusparse-cu12==12.3.1.170 in /usr/local/lib/python3.11/dist-packages (from torch) (12.3.1.170)\n",
            "Requirement already satisfied: nvidia-cusparselt-cu12==0.6.2 in /usr/local/lib/python3.11/dist-packages (from torch) (0.6.2)\n",
            "Requirement already satisfied: nvidia-nccl-cu12==2.21.5 in /usr/local/lib/python3.11/dist-packages (from torch) (2.21.5)\n",
            "Requirement already satisfied: nvidia-nvtx-cu12==12.4.127 in /usr/local/lib/python3.11/dist-packages (from torch) (12.4.127)\n",
            "Requirement already satisfied: nvidia-nvjitlink-cu12==12.4.127 in /usr/local/lib/python3.11/dist-packages (from torch) (12.4.127)\n",
            "Requirement already satisfied: triton==3.2.0 in /usr/local/lib/python3.11/dist-packages (from torch) (3.2.0)\n",
            "Requirement already satisfied: sympy==1.13.1 in /usr/local/lib/python3.11/dist-packages (from torch) (1.13.1)\n",
            "Requirement already satisfied: mpmath<1.4,>=1.1.0 in /usr/local/lib/python3.11/dist-packages (from sympy==1.13.1->torch) (1.3.0)\n",
            "Requirement already satisfied: contourpy>=1.0.1 in /usr/local/lib/python3.11/dist-packages (from matplotlib) (1.3.2)\n",
            "Requirement already satisfied: cycler>=0.10 in /usr/local/lib/python3.11/dist-packages (from matplotlib) (0.12.1)\n",
            "Requirement already satisfied: fonttools>=4.22.0 in /usr/local/lib/python3.11/dist-packages (from matplotlib) (4.57.0)\n",
            "Requirement already satisfied: kiwisolver>=1.3.1 in /usr/local/lib/python3.11/dist-packages (from matplotlib) (1.4.8)\n",
            "Requirement already satisfied: packaging>=20.0 in /usr/local/lib/python3.11/dist-packages (from matplotlib) (24.2)\n",
            "Requirement already satisfied: pillow>=8 in /usr/local/lib/python3.11/dist-packages (from matplotlib) (11.2.1)\n",
            "Requirement already satisfied: pyparsing>=2.3.1 in /usr/local/lib/python3.11/dist-packages (from matplotlib) (3.2.3)\n",
            "Requirement already satisfied: python-dateutil>=2.7 in /usr/local/lib/python3.11/dist-packages (from matplotlib) (2.9.0.post0)\n",
            "Requirement already satisfied: notebook in /usr/local/lib/python3.11/dist-packages (from jupyter) (6.5.7)\n",
            "Requirement already satisfied: jupyter-console in /usr/local/lib/python3.11/dist-packages (from jupyter) (6.1.0)\n",
            "Requirement already satisfied: nbconvert in /usr/local/lib/python3.11/dist-packages (from jupyter) (7.16.6)\n",
            "Requirement already satisfied: ipykernel in /usr/local/lib/python3.11/dist-packages (from jupyter) (6.17.1)\n",
            "Requirement already satisfied: ipywidgets in /usr/local/lib/python3.11/dist-packages (from jupyter) (7.7.1)\n",
            "Requirement already satisfied: jupyterlab in /usr/local/lib/python3.11/dist-packages (from jupyter) (4.4.2)\n",
            "Requirement already satisfied: six>=1.5 in /usr/local/lib/python3.11/dist-packages (from python-dateutil>=2.7->matplotlib) (1.17.0)\n",
            "Requirement already satisfied: debugpy>=1.0 in /usr/local/lib/python3.11/dist-packages (from ipykernel->jupyter) (1.8.0)\n",
            "Requirement already satisfied: ipython>=7.23.1 in /usr/local/lib/python3.11/dist-packages (from ipykernel->jupyter) (7.34.0)\n",
            "Requirement already satisfied: jupyter-client>=6.1.12 in /usr/local/lib/python3.11/dist-packages (from ipykernel->jupyter) (7.4.9)\n",
            "Requirement already satisfied: matplotlib-inline>=0.1 in /usr/local/lib/python3.11/dist-packages (from ipykernel->jupyter) (0.1.7)\n",
            "Requirement already satisfied: nest-asyncio in /usr/local/lib/python3.11/dist-packages (from ipykernel->jupyter) (1.6.0)\n",
            "Requirement already satisfied: psutil in /usr/local/lib/python3.11/dist-packages (from ipykernel->jupyter) (5.9.5)\n",
            "Requirement already satisfied: pyzmq>=17 in /usr/local/lib/python3.11/dist-packages (from ipykernel->jupyter) (24.0.1)\n",
            "Requirement already satisfied: tornado>=6.1 in /usr/local/lib/python3.11/dist-packages (from ipykernel->jupyter) (6.4.2)\n",
            "Requirement already satisfied: traitlets>=5.1.0 in /usr/local/lib/python3.11/dist-packages (from ipykernel->jupyter) (5.7.1)\n",
            "Requirement already satisfied: ipython-genutils~=0.2.0 in /usr/local/lib/python3.11/dist-packages (from ipywidgets->jupyter) (0.2.0)\n",
            "Requirement already satisfied: widgetsnbextension~=3.6.0 in /usr/local/lib/python3.11/dist-packages (from ipywidgets->jupyter) (3.6.10)\n",
            "Requirement already satisfied: jupyterlab-widgets>=1.0.0 in /usr/local/lib/python3.11/dist-packages (from ipywidgets->jupyter) (3.0.14)\n",
            "Requirement already satisfied: MarkupSafe>=2.0 in /usr/local/lib/python3.11/dist-packages (from jinja2->torch) (3.0.2)\n",
            "Requirement already satisfied: prompt-toolkit!=3.0.0,!=3.0.1,<3.1.0,>=2.0.0 in /usr/local/lib/python3.11/dist-packages (from jupyter-console->jupyter) (3.0.51)\n",
            "Requirement already satisfied: pygments in /usr/local/lib/python3.11/dist-packages (from jupyter-console->jupyter) (2.19.1)\n",
            "Requirement already satisfied: async-lru>=1.0.0 in /usr/local/lib/python3.11/dist-packages (from jupyterlab->jupyter) (2.0.5)\n",
            "Requirement already satisfied: httpx>=0.25.0 in /usr/local/lib/python3.11/dist-packages (from jupyterlab->jupyter) (0.28.1)\n",
            "Requirement already satisfied: jupyter-core in /usr/local/lib/python3.11/dist-packages (from jupyterlab->jupyter) (5.7.2)\n",
            "Requirement already satisfied: jupyter-lsp>=2.0.0 in /usr/local/lib/python3.11/dist-packages (from jupyterlab->jupyter) (2.2.5)\n",
            "Requirement already satisfied: jupyter-server<3,>=2.4.0 in /usr/local/lib/python3.11/dist-packages (from jupyterlab->jupyter) (2.15.0)\n",
            "Requirement already satisfied: jupyterlab-server<3,>=2.27.1 in /usr/local/lib/python3.11/dist-packages (from jupyterlab->jupyter) (2.27.3)\n",
            "Requirement already satisfied: notebook-shim>=0.2 in /usr/local/lib/python3.11/dist-packages (from jupyterlab->jupyter) (0.2.4)\n",
            "Requirement already satisfied: setuptools>=41.1.0 in /usr/local/lib/python3.11/dist-packages (from jupyterlab->jupyter) (75.2.0)\n",
            "Requirement already satisfied: beautifulsoup4 in /usr/local/lib/python3.11/dist-packages (from nbconvert->jupyter) (4.13.4)\n",
            "Requirement already satisfied: bleach!=5.0.0 in /usr/local/lib/python3.11/dist-packages (from bleach[css]!=5.0.0->nbconvert->jupyter) (6.2.0)\n",
            "Requirement already satisfied: defusedxml in /usr/local/lib/python3.11/dist-packages (from nbconvert->jupyter) (0.7.1)\n",
            "Requirement already satisfied: jupyterlab-pygments in /usr/local/lib/python3.11/dist-packages (from nbconvert->jupyter) (0.3.0)\n",
            "Requirement already satisfied: mistune<4,>=2.0.3 in /usr/local/lib/python3.11/dist-packages (from nbconvert->jupyter) (3.1.3)\n",
            "Requirement already satisfied: nbclient>=0.5.0 in /usr/local/lib/python3.11/dist-packages (from nbconvert->jupyter) (0.10.2)\n",
            "Requirement already satisfied: nbformat>=5.7 in /usr/local/lib/python3.11/dist-packages (from nbconvert->jupyter) (5.10.4)\n",
            "Requirement already satisfied: pandocfilters>=1.4.1 in /usr/local/lib/python3.11/dist-packages (from nbconvert->jupyter) (1.5.1)\n",
            "Requirement already satisfied: argon2-cffi in /usr/local/lib/python3.11/dist-packages (from notebook->jupyter) (23.1.0)\n",
            "Requirement already satisfied: Send2Trash>=1.8.0 in /usr/local/lib/python3.11/dist-packages (from notebook->jupyter) (1.8.3)\n",
            "Requirement already satisfied: terminado>=0.8.3 in /usr/local/lib/python3.11/dist-packages (from notebook->jupyter) (0.18.1)\n",
            "Requirement already satisfied: prometheus-client in /usr/local/lib/python3.11/dist-packages (from notebook->jupyter) (0.21.1)\n",
            "Requirement already satisfied: nbclassic>=0.4.7 in /usr/local/lib/python3.11/dist-packages (from notebook->jupyter) (1.3.0)\n",
            "Requirement already satisfied: webencodings in /usr/local/lib/python3.11/dist-packages (from bleach!=5.0.0->bleach[css]!=5.0.0->nbconvert->jupyter) (0.5.1)\n",
            "Requirement already satisfied: tinycss2<1.5,>=1.1.0 in /usr/local/lib/python3.11/dist-packages (from bleach[css]!=5.0.0->nbconvert->jupyter) (1.4.0)\n",
            "Requirement already satisfied: anyio in /usr/local/lib/python3.11/dist-packages (from httpx>=0.25.0->jupyterlab->jupyter) (4.9.0)\n",
            "Requirement already satisfied: certifi in /usr/local/lib/python3.11/dist-packages (from httpx>=0.25.0->jupyterlab->jupyter) (2025.4.26)\n",
            "Requirement already satisfied: httpcore==1.* in /usr/local/lib/python3.11/dist-packages (from httpx>=0.25.0->jupyterlab->jupyter) (1.0.9)\n",
            "Requirement already satisfied: idna in /usr/local/lib/python3.11/dist-packages (from httpx>=0.25.0->jupyterlab->jupyter) (3.10)\n",
            "Requirement already satisfied: h11>=0.16 in /usr/local/lib/python3.11/dist-packages (from httpcore==1.*->httpx>=0.25.0->jupyterlab->jupyter) (0.16.0)\n",
            "Requirement already satisfied: jedi>=0.16 in /usr/local/lib/python3.11/dist-packages (from ipython>=7.23.1->ipykernel->jupyter) (0.19.2)\n",
            "Requirement already satisfied: decorator in /usr/local/lib/python3.11/dist-packages (from ipython>=7.23.1->ipykernel->jupyter) (4.4.2)\n",
            "Requirement already satisfied: pickleshare in /usr/local/lib/python3.11/dist-packages (from ipython>=7.23.1->ipykernel->jupyter) (0.7.5)\n",
            "Requirement already satisfied: backcall in /usr/local/lib/python3.11/dist-packages (from ipython>=7.23.1->ipykernel->jupyter) (0.2.0)\n",
            "Requirement already satisfied: pexpect>4.3 in /usr/local/lib/python3.11/dist-packages (from ipython>=7.23.1->ipykernel->jupyter) (4.9.0)\n",
            "Requirement already satisfied: entrypoints in /usr/local/lib/python3.11/dist-packages (from jupyter-client>=6.1.12->ipykernel->jupyter) (0.4)\n",
            "Requirement already satisfied: platformdirs>=2.5 in /usr/local/lib/python3.11/dist-packages (from jupyter-core->jupyterlab->jupyter) (4.3.7)\n",
            "Requirement already satisfied: jupyter-events>=0.11.0 in /usr/local/lib/python3.11/dist-packages (from jupyter-server<3,>=2.4.0->jupyterlab->jupyter) (0.12.0)\n",
            "Requirement already satisfied: jupyter-server-terminals>=0.4.4 in /usr/local/lib/python3.11/dist-packages (from jupyter-server<3,>=2.4.0->jupyterlab->jupyter) (0.5.3)\n",
            "Requirement already satisfied: overrides>=5.0 in /usr/local/lib/python3.11/dist-packages (from jupyter-server<3,>=2.4.0->jupyterlab->jupyter) (7.7.0)\n",
            "Requirement already satisfied: websocket-client>=1.7 in /usr/local/lib/python3.11/dist-packages (from jupyter-server<3,>=2.4.0->jupyterlab->jupyter) (1.8.0)\n",
            "Requirement already satisfied: argon2-cffi-bindings in /usr/local/lib/python3.11/dist-packages (from argon2-cffi->notebook->jupyter) (21.2.0)\n",
            "Requirement already satisfied: babel>=2.10 in /usr/local/lib/python3.11/dist-packages (from jupyterlab-server<3,>=2.27.1->jupyterlab->jupyter) (2.17.0)\n",
            "Requirement already satisfied: json5>=0.9.0 in /usr/local/lib/python3.11/dist-packages (from jupyterlab-server<3,>=2.27.1->jupyterlab->jupyter) (0.12.0)\n",
            "Requirement already satisfied: jsonschema>=4.18.0 in /usr/local/lib/python3.11/dist-packages (from jupyterlab-server<3,>=2.27.1->jupyterlab->jupyter) (4.23.0)\n",
            "Requirement already satisfied: requests>=2.31 in /usr/local/lib/python3.11/dist-packages (from jupyterlab-server<3,>=2.27.1->jupyterlab->jupyter) (2.32.3)\n",
            "Requirement already satisfied: fastjsonschema>=2.15 in /usr/local/lib/python3.11/dist-packages (from nbformat>=5.7->nbconvert->jupyter) (2.21.1)\n",
            "Requirement already satisfied: wcwidth in /usr/local/lib/python3.11/dist-packages (from prompt-toolkit!=3.0.0,!=3.0.1,<3.1.0,>=2.0.0->jupyter-console->jupyter) (0.2.13)\n",
            "Requirement already satisfied: ptyprocess in /usr/local/lib/python3.11/dist-packages (from terminado>=0.8.3->notebook->jupyter) (0.7.0)\n",
            "Requirement already satisfied: soupsieve>1.2 in /usr/local/lib/python3.11/dist-packages (from beautifulsoup4->nbconvert->jupyter) (2.7)\n",
            "Requirement already satisfied: sniffio>=1.1 in /usr/local/lib/python3.11/dist-packages (from anyio->httpx>=0.25.0->jupyterlab->jupyter) (1.3.1)\n",
            "Requirement already satisfied: parso<0.9.0,>=0.8.4 in /usr/local/lib/python3.11/dist-packages (from jedi>=0.16->ipython>=7.23.1->ipykernel->jupyter) (0.8.4)\n",
            "Requirement already satisfied: attrs>=22.2.0 in /usr/local/lib/python3.11/dist-packages (from jsonschema>=4.18.0->jupyterlab-server<3,>=2.27.1->jupyterlab->jupyter) (25.3.0)\n",
            "Requirement already satisfied: jsonschema-specifications>=2023.03.6 in /usr/local/lib/python3.11/dist-packages (from jsonschema>=4.18.0->jupyterlab-server<3,>=2.27.1->jupyterlab->jupyter) (2025.4.1)\n",
            "Requirement already satisfied: referencing>=0.28.4 in /usr/local/lib/python3.11/dist-packages (from jsonschema>=4.18.0->jupyterlab-server<3,>=2.27.1->jupyterlab->jupyter) (0.36.2)\n",
            "Requirement already satisfied: rpds-py>=0.7.1 in /usr/local/lib/python3.11/dist-packages (from jsonschema>=4.18.0->jupyterlab-server<3,>=2.27.1->jupyterlab->jupyter) (0.24.0)\n",
            "Requirement already satisfied: python-json-logger>=2.0.4 in /usr/local/lib/python3.11/dist-packages (from jupyter-events>=0.11.0->jupyter-server<3,>=2.4.0->jupyterlab->jupyter) (3.3.0)\n",
            "Requirement already satisfied: pyyaml>=5.3 in /usr/local/lib/python3.11/dist-packages (from jupyter-events>=0.11.0->jupyter-server<3,>=2.4.0->jupyterlab->jupyter) (6.0.2)\n",
            "Requirement already satisfied: rfc3339-validator in /usr/local/lib/python3.11/dist-packages (from jupyter-events>=0.11.0->jupyter-server<3,>=2.4.0->jupyterlab->jupyter) (0.1.4)\n",
            "Requirement already satisfied: rfc3986-validator>=0.1.1 in /usr/local/lib/python3.11/dist-packages (from jupyter-events>=0.11.0->jupyter-server<3,>=2.4.0->jupyterlab->jupyter) (0.1.1)\n",
            "Requirement already satisfied: charset-normalizer<4,>=2 in /usr/local/lib/python3.11/dist-packages (from requests>=2.31->jupyterlab-server<3,>=2.27.1->jupyterlab->jupyter) (3.4.1)\n",
            "Requirement already satisfied: urllib3<3,>=1.21.1 in /usr/local/lib/python3.11/dist-packages (from requests>=2.31->jupyterlab-server<3,>=2.27.1->jupyterlab->jupyter) (2.4.0)\n",
            "Requirement already satisfied: cffi>=1.0.1 in /usr/local/lib/python3.11/dist-packages (from argon2-cffi-bindings->argon2-cffi->notebook->jupyter) (1.17.1)\n",
            "Requirement already satisfied: pycparser in /usr/local/lib/python3.11/dist-packages (from cffi>=1.0.1->argon2-cffi-bindings->argon2-cffi->notebook->jupyter) (2.22)\n",
            "Requirement already satisfied: fqdn in /usr/local/lib/python3.11/dist-packages (from jsonschema[format-nongpl]>=4.18.0->jupyter-events>=0.11.0->jupyter-server<3,>=2.4.0->jupyterlab->jupyter) (1.5.1)\n",
            "Requirement already satisfied: isoduration in /usr/local/lib/python3.11/dist-packages (from jsonschema[format-nongpl]>=4.18.0->jupyter-events>=0.11.0->jupyter-server<3,>=2.4.0->jupyterlab->jupyter) (20.11.0)\n",
            "Requirement already satisfied: jsonpointer>1.13 in /usr/local/lib/python3.11/dist-packages (from jsonschema[format-nongpl]>=4.18.0->jupyter-events>=0.11.0->jupyter-server<3,>=2.4.0->jupyterlab->jupyter) (3.0.0)\n",
            "Requirement already satisfied: uri-template in /usr/local/lib/python3.11/dist-packages (from jsonschema[format-nongpl]>=4.18.0->jupyter-events>=0.11.0->jupyter-server<3,>=2.4.0->jupyterlab->jupyter) (1.3.0)\n",
            "Requirement already satisfied: webcolors>=24.6.0 in /usr/local/lib/python3.11/dist-packages (from jsonschema[format-nongpl]>=4.18.0->jupyter-events>=0.11.0->jupyter-server<3,>=2.4.0->jupyterlab->jupyter) (24.11.1)\n",
            "Requirement already satisfied: arrow>=0.15.0 in /usr/local/lib/python3.11/dist-packages (from isoduration->jsonschema[format-nongpl]>=4.18.0->jupyter-events>=0.11.0->jupyter-server<3,>=2.4.0->jupyterlab->jupyter) (1.3.0)\n",
            "Requirement already satisfied: types-python-dateutil>=2.8.10 in /usr/local/lib/python3.11/dist-packages (from arrow>=0.15.0->isoduration->jsonschema[format-nongpl]>=4.18.0->jupyter-events>=0.11.0->jupyter-server<3,>=2.4.0->jupyterlab->jupyter) (2.9.0.20241206)\n"
          ]
        }
      ],
      "source": [
        "! python -m venv llm_lab\n",
        "! source llm_lab/bin/activate # On Windows: llm_lab\\Scripts\\activate\n",
        "! pip install numpy torch matplotlib jupyter"
      ]
    },
    {
      "cell_type": "markdown",
      "source": [
        " Jupyter Notebook Setup"
      ],
      "metadata": {
        "id": "2uiaZyRcz9wR"
      }
    },
    {
      "cell_type": "code",
      "source": [
        "#  ! jupyter notebook"
      ],
      "metadata": {
        "id": "dUiUQKoBx9k8"
      },
      "execution_count": null,
      "outputs": []
    },
    {
      "cell_type": "markdown",
      "source": [
        " Importing Libraries\n"
      ],
      "metadata": {
        "id": "pYwYikAY0AFQ"
      }
    },
    {
      "cell_type": "code",
      "source": [
        " import numpy as np\n",
        " import torch\n",
        " import torch.nn as nn\n",
        " import torch.nn.functional as F\n",
        " import matplotlib.pyplot as plt\n",
        " import re\n",
        " import random\n",
        " from collections import Counter\n",
        " # Set random seeds for reproducibility\n",
        " torch.manual_seed(42)\n",
        " np.random.seed(42)\n",
        " random.seed(42)\n",
        " device = torch.device('cuda' if torch.cuda.is_available() else 'cpu')\n",
        " print(f\"Using device: {device}\")"
      ],
      "metadata": {
        "colab": {
          "base_uri": "https://localhost:8080/"
        },
        "id": "Ep3I_3UazJaZ",
        "outputId": "a2af53c1-323e-44bf-92ed-f79022f0c1cc"
      },
      "execution_count": null,
      "outputs": [
        {
          "output_type": "stream",
          "name": "stdout",
          "text": [
            "Using device: cuda\n"
          ]
        }
      ]
    },
    {
      "cell_type": "markdown",
      "source": [
        "Preparing a Simple Dataset"
      ],
      "metadata": {
        "id": "pNFseDzV0FDO"
      }
    },
    {
      "cell_type": "code",
      "source": [
        "# Sample text corpus\n",
        "corpus = \"\"\"\n",
        "Natural language processing has improved significantly with transformer models.\n",
        "Large language models like GPT can generate human-like text.\n",
        "Attention mechanisms help models focus on relevant parts of the input.\n",
        "Transformers have revolutionized machine translation and text generation.\n",
        "The self-attention mechanism is a key innovation in transformer architectures.\n",
        "Tokenization is the first step in processing text for language models.\n",
        "Neural networks learn to represent words as vectors in a continuous space.\n",
        "Contextual embeddings capture word meaning based on surrounding context.\n",
        "Training language models requires large amounts of text data.\n",
        "Language models can be fine-tuned for specific tasks like summarization.\n",
        "\"\"\"\n",
        "# Clean the text\n",
        "corpus = corpus.strip().lower()\n",
        "sentences = [s.strip() for s in corpus.split('.') if s.strip()]\n",
        "print(f\"Number of sentences: {len(sentences)}\")\n",
        "print(f\"Sample sentence: {sentences[0]}\")"
      ],
      "metadata": {
        "colab": {
          "base_uri": "https://localhost:8080/"
        },
        "id": "YSiLH4gjzOgR",
        "outputId": "e8abbee1-ec3b-4c8a-95c3-fb4f79bacb74"
      },
      "execution_count": null,
      "outputs": [
        {
          "output_type": "stream",
          "name": "stdout",
          "text": [
            "Number of sentences: 10\n",
            "Sample sentence: natural language processing has improved significantly with transformer models\n"
          ]
        }
      ]
    },
    {
      "cell_type": "markdown",
      "source": [
        "Implementing a Simple Tokenizer"
      ],
      "metadata": {
        "id": "DBnYP4q_0IfS"
      }
    },
    {
      "cell_type": "code",
      "source": [
        "# class CharacterTokenizer:\n",
        "#   def __init__(self):\n",
        "#       self.char_to_idx = {}\n",
        "#       self.idx_to_char = {}\n",
        "#       self.vocab_size = 0\n",
        "\n",
        "#   def fit(self, texts):\n",
        "#       \"\"\"Build vocabulary from a list of texts\"\"\"\n",
        "#       chars = set()\n",
        "#       for text in texts:\n",
        "#           chars.update(text)\n",
        "\n",
        "#       # Sort characters for deterministic mapping\n",
        "#       sorted_chars = sorted(list(chars))\n",
        "\n",
        "#       # Create mappings\n",
        "#       self.char_to_idx = {char: idx for idx, char in enumerate(sorted_chars)}\n",
        "#       self.idx_to_char = {idx: char for idx, char in enumerate(sorted_chars)}\n",
        "#       self.vocab_size = len(sorted_chars)\n",
        "\n",
        "#       return self\n",
        "\n",
        "#   def encode(self, text):\n",
        "#       \"\"\"Convert text to token indices\"\"\"\n",
        "#       return [self.char_to_idx[char] for char in text]\n",
        "\n",
        "#   def decode(self, indices):\n",
        "#       \"\"\"Convert token indices back to text\"\"\"\n",
        "#       return ''.join([self.idx_to_char[idx] for idx in indices])\n",
        "\n",
        "#   def __len__(self):\n",
        "#       return self.vocab_size\n",
        "# # Create and fit the tokenizer\n",
        "# tokenizer = CharacterTokenizer().fit(sentences)\n",
        "# print(f\"Vocabulary size: {len(tokenizer)}\")\n",
        "# # Test encoding and decoding\n",
        "# sample_text = sentences[0]\n",
        "# encoded = tokenizer.encode(sample_text)\n",
        "# decoded = tokenizer.decode(encoded)\n",
        "# print(f\"Original: {sample_text}\")\n",
        "# print(f\"Encoded: {encoded[:10]}...\")\n",
        "# print(f\"Decoded: {decoded}\")"
      ],
      "metadata": {
        "id": "B-hY1Ao-zSaw"
      },
      "execution_count": null,
      "outputs": []
    },
    {
      "cell_type": "code",
      "source": [
        "class WordTokenizer:\n",
        "    def __init__(self):\n",
        "        self.word_to_idx = {}\n",
        "        self.idx_to_word = {}\n",
        "        self.vocab_size = 0\n",
        "\n",
        "    def fit(self, texts):\n",
        "        \"\"\"Build vocabulary from a list of texts\"\"\"\n",
        "        words = set()\n",
        "        for text in texts:\n",
        "            words.update(text.split())  # Tokenize by words\n",
        "\n",
        "        # Sort words for deterministic mapping\n",
        "        sorted_words = sorted(list(words))\n",
        "\n",
        "        # Create mappings\n",
        "        self.word_to_idx = {word: idx for idx, word in enumerate(sorted_words)}\n",
        "        self.idx_to_word = {idx: word for idx, word in enumerate(sorted_words)}\n",
        "        self.vocab_size = len(sorted_words)\n",
        "\n",
        "        return self\n",
        "\n",
        "    def encode(self, text):\n",
        "        \"\"\"Convert text to token indices\"\"\"\n",
        "        return [self.word_to_idx[word] for word in text.split()]\n",
        "\n",
        "    def decode(self, indices):\n",
        "        \"\"\"Convert token indices back to text\"\"\"\n",
        "        return ' '.join([self.idx_to_word[idx] for idx in indices])\n",
        "\n",
        "    def __len__(self):\n",
        "        return self.vocab_size\n",
        "\n",
        "\n",
        "# Example usage:\n",
        "tokenizer = WordTokenizer().fit(sentences)\n",
        "print(f\"Vocabulary size: {len(tokenizer)}\")\n",
        "\n",
        "# Test encoding and decoding\n",
        "sample_text = sentences[0]\n",
        "encoded = tokenizer.encode(sample_text)\n",
        "decoded = tokenizer.decode(encoded)\n",
        "print(f\"Original: {sample_text}\")\n",
        "print(f\"Encoded: {encoded[:10]}...\")\n",
        "print(f\"Decoded: {decoded}\")\n"
      ],
      "metadata": {
        "colab": {
          "base_uri": "https://localhost:8080/"
        },
        "id": "JRwaHo93_Gbo",
        "outputId": "55bc8f68-b8e0-4da7-b193-e5557bf47afa"
      },
      "execution_count": null,
      "outputs": [
        {
          "output_type": "stream",
          "name": "stdout",
          "text": [
            "Vocabulary size: 72\n",
            "Original: natural language processing has improved significantly with transformer models\n",
            "Encoded: [41, 32, 47, 22, 26, 53, 69, 65, 40]...\n",
            "Decoded: natural language processing has improved significantly with transformer models\n"
          ]
        }
      ]
    },
    {
      "cell_type": "markdown",
      "source": [
        "Creating Training Data"
      ],
      "metadata": {
        "id": "vcesV0y70LUl"
      }
    },
    {
      "cell_type": "code",
      "source": [
        "def prepare_data(sentences, tokenizer, seq_length=20):\n",
        "  \"\"\"Prepare input-output pairs for training\"\"\"\n",
        "  inputs = []\n",
        "  targets = []\n",
        "\n",
        "  for sentence in sentences:\n",
        "      # Skip sentences that are too short\n",
        "      if len(sentence) <= seq_length + 1:\n",
        "          continue\n",
        "\n",
        "      # Tokenize the sentence\n",
        "      tokens = tokenizer.encode(sentence)\n",
        "\n",
        "      # Create input-target pairs with a sliding window\n",
        "      for i in range(len(tokens) - seq_length):\n",
        "          input_seq = tokens[i:i+seq_length]\n",
        "          target_seq = tokens[i+1:i+seq_length+1]  # Next token prediction\n",
        "\n",
        "          inputs.append(input_seq)\n",
        "          targets.append(target_seq)\n",
        "\n",
        "  # Convert to PyTorch tensors\n",
        "  inputs = torch.tensor(inputs, dtype=torch.long)\n",
        "  targets = torch.tensor(targets, dtype=torch.long)\n",
        "\n",
        "  return inputs, targets\n",
        "# Prepare training data\n",
        "seq_length = 10\n",
        "inputs, targets = prepare_data(sentences, tokenizer, seq_length)\n",
        "print(f\"Number of training examples: {len(inputs)}\")\n",
        "print(f\"Input shape: {inputs.shape}\")\n",
        "print(f\"Target shape: {targets.shape}\")\n",
        "# Sample data point\n",
        "idx = 0\n",
        "print(f\"Sample input: {tokenizer.decode(inputs[idx].tolist())}\")\n",
        "print(f\"Sample target: {tokenizer.decode(targets[idx].tolist())}\")"
      ],
      "metadata": {
        "colab": {
          "base_uri": "https://localhost:8080/"
        },
        "id": "5SwjLirkzTPB",
        "outputId": "bcbc3a90-fb29-4254-c019-46f2c5ec3492"
      },
      "execution_count": null,
      "outputs": [
        {
          "output_type": "stream",
          "name": "stdout",
          "text": [
            "Number of training examples: 4\n",
            "Input shape: torch.Size([4, 10])\n",
            "Target shape: torch.Size([4, 10])\n",
            "Sample input: attention mechanisms help models focus on relevant parts of the\n",
            "Sample target: mechanisms help models focus on relevant parts of the input\n"
          ]
        }
      ]
    },
    {
      "cell_type": "markdown",
      "source": [
        "Implementing the Embedding Layer"
      ],
      "metadata": {
        "id": "rubobsqi0OxP"
      }
    },
    {
      "cell_type": "code",
      "source": [
        "class EmbeddingLayer(nn.Module):\n",
        "  def __init__(self, vocab_size, embed_dim):\n",
        "      super(EmbeddingLayer, self).__init__()\n",
        "      self.embedding = nn.Embedding(vocab_size, embed_dim)\n",
        "      self.embed_dim = embed_dim\n",
        "\n",
        "  def forward(self, x):\n",
        "      # x shape: (batch_size, seq_length)\n",
        "      # output shape: (batch_size, seq_length, embed_dim)\n",
        "      return self.embedding(x) * (self.embed_dim ** 0.5)  # Scaling factor\n",
        "# Test the embedding layer\n",
        "vocab_size = len(tokenizer)\n",
        "embed_dim = 32\n",
        "embedding_layer = EmbeddingLayer(vocab_size, embed_dim)\n",
        "sample_batch = inputs[:3]  # Take 3 examples\n",
        "embedded = embedding_layer(sample_batch)\n",
        "print(f\"Sample batch shape: {sample_batch.shape}\")\n",
        "print(f\"Embedded output shape: {embedded.shape}\")"
      ],
      "metadata": {
        "colab": {
          "base_uri": "https://localhost:8080/"
        },
        "id": "pBID0WUyzWqy",
        "outputId": "d24a7f5a-be56-4f56-e3d2-89a2ea872df6"
      },
      "execution_count": null,
      "outputs": [
        {
          "output_type": "stream",
          "name": "stdout",
          "text": [
            "Sample batch shape: torch.Size([3, 10])\n",
            "Embedded output shape: torch.Size([3, 10, 32])\n"
          ]
        }
      ]
    },
    {
      "cell_type": "markdown",
      "source": [
        "Implementing Positional Encoding"
      ],
      "metadata": {
        "id": "lLYCIuyv0SPC"
      }
    },
    {
      "cell_type": "code",
      "source": [
        "class PositionalEncoding(nn.Module):\n",
        "  def __init__(self, embed_dim, max_seq_length=5000):\n",
        "      super(PositionalEncoding, self).__init__()\n",
        "\n",
        "      # Create positional encoding matrix\n",
        "      pe = torch.zeros(max_seq_length, embed_dim)\n",
        "      position = torch.arange(0, max_seq_length, dtype=torch.float).unsqueeze(1)\n",
        "      div_term = torch.exp(torch.arange(0, embed_dim, 2).float() * (-np.log(10000.0) / embed_dim))\n",
        "\n",
        "      # Apply sine to even indices\n",
        "      pe[:, 0::2] = torch.sin(position * div_term)\n",
        "      # Apply cosine to odd indices\n",
        "      pe[:, 1::2] = torch.cos(position * div_term)\n",
        "\n",
        "      # Register as buffer (not model parameter)\n",
        "      self.register_buffer('pe', pe.unsqueeze(0))\n",
        "\n",
        "  def forward(self, x):\n",
        "      # x shape: (batch_size, seq_length, embed_dim)\n",
        "      # Add positional encoding\n",
        "      return x + self.pe[:, :x.size(1), :]\n",
        "# Test positional encoding\n",
        "pos_encoding = PositionalEncoding(embed_dim)\n",
        "embedded_with_pos = pos_encoding(embedded)\n",
        "print(f\"Shape after positional encoding: {embedded_with_pos.shape}\")\n",
        "# Visualize positional encodings\n",
        "plt.figure(figsize=(10, 6))\n",
        "plt.imshow(pos_encoding.pe[0, :20, :].cpu().numpy(), aspect='auto', cmap='viridis')\n",
        "plt.xlabel('Embedding Dimension')\n",
        "plt.ylabel('Position')\n",
        "plt.colorbar()\n",
        "plt.title('Positional Encodings')\n",
        "plt.show()"
      ],
      "metadata": {
        "colab": {
          "base_uri": "https://localhost:8080/",
          "height": 582
        },
        "id": "7AKRexTLzY7J",
        "outputId": "e98df2f1-12e4-4b14-a2ef-094a8f091e90"
      },
      "execution_count": null,
      "outputs": [
        {
          "output_type": "stream",
          "name": "stdout",
          "text": [
            "Shape after positional encoding: torch.Size([3, 10, 32])\n"
          ]
        },
        {
          "output_type": "display_data",
          "data": {
            "text/plain": [
              "<Figure size 1000x600 with 2 Axes>"
            ],
            "image/png": "[encoded data removed]"
          },
          "metadata": {}
        }
      ]
    },
    {
      "cell_type": "markdown",
      "source": [
        "Implementing Self-Attention Mechanism"
      ],
      "metadata": {
        "id": "Mt_V2DcV0UZF"
      }
    },
    {
      "cell_type": "code",
      "source": [
        "class SelfAttention(nn.Module):\n",
        "    def __init__(self, embed_dim, num_heads): # Changed _init_ to __init__\n",
        "        super(SelfAttention, self).__init__()\n",
        "        self.embed_dim = embed_dim\n",
        "        self.num_heads = num_heads\n",
        "        self.head_dim = embed_dim // num_heads\n",
        "\n",
        "        assert self.head_dim * num_heads == embed_dim, \"Embedding dimension must be divisible by number of heads\"\n",
        "\n",
        "        # Combine all Q, K, V projections into one linear layer for efficiency\n",
        "        self.qkv = nn.Linear(embed_dim, embed_dim * 3)\n",
        "        self.fc_out = nn.Linear(embed_dim, embed_dim)\n",
        "\n",
        "    def forward(self, x, mask=None):\n",
        "        batch_size, seq_length, embed_dim = x.size()\n",
        "\n",
        "        # Compute Q, K, V in one big matrix and split\n",
        "        qkv = self.qkv(x)  # (batch_size, seq_length, 3 * embed_dim)\n",
        "        qkv = qkv.reshape(batch_size, seq_length, 3, self.num_heads, self.head_dim)\n",
        "        qkv = qkv.permute(2, 0, 3, 1, 4)  # (3, batch_size, num_heads, seq_length, head_dim)\n",
        "        queries, keys, values = qkv[0], qkv[1], qkv[2]  # Each is (batch_size, num_heads, seq_length, head_dim)\n",
        "\n",
        "        # Compute scaled dot-product attention\n",
        "        scale = self.head_dim ** 0.5\n",
        "        energy = torch.matmul(queries, keys.transpose(-2, -1)) / scale  # (batch_size, num_heads, seq_length, seq_length)\n",
        "\n",
        "        if mask is not None:\n",
        "            energy = energy.masked_fill(mask == 0, float(\"-1e20\"))\n",
        "\n",
        "        attention = F.softmax(energy, dim=-1)\n",
        "\n",
        "        out = torch.matmul(attention, values)  # (batch_size, num_heads, seq_length, head_dim)\n",
        "        out = out.transpose(1, 2).reshape(batch_size, seq_length, embed_dim)  # (batch_size, seq_length, embed_dim)\n",
        "\n",
        "        out = self.fc_out(out)  # Final linear projection\n",
        "        return out, attention\n",
        "# Create causal mask for language modeling\n",
        "def create_causal_mask(size):\n",
        "  mask = torch.tril(torch.ones(size, size))\n",
        "  return mask.unsqueeze(0).unsqueeze(0)  # (1, 1, size, size)\n",
        "# Test self-attention\n",
        "num_heads = 4\n",
        "attention = SelfAttention(embed_dim, num_heads).to(device) # Move the model to the device\n",
        "mask = create_causal_mask(seq_length).to(device)\n",
        "attention_output, attention_weights = attention(embedded_with_pos.to(device), mask) # Move the input to the device\n",
        "print(f\"Attention output shape: {attention_output.shape}\")\n",
        "print(f\"Attention weights shape: {attention_weights.shape}\")\n",
        "# Visualize attention weights for the first head\n",
        "plt.figure(figsize=(8, 6))\n",
        "plt.imshow(attention_weights[0, 0, :, :].detach().cpu().numpy(), cmap='viridis')\n",
        "plt.xlabel('Key Position')\n",
        "plt.ylabel('Query Position')\n",
        "plt.colorbar()\n",
        "plt.title('Self-Attention Weights (First Head)')\n",
        "plt.show()"
      ],
      "metadata": {
        "colab": {
          "base_uri": "https://localhost:8080/",
          "height": 600
        },
        "id": "6IECxLr8zete",
        "outputId": "7c378c86-9b2a-45b8-cfe9-e696689680bf"
      },
      "execution_count": null,
      "outputs": [
        {
          "output_type": "stream",
          "name": "stdout",
          "text": [
            "Attention output shape: torch.Size([3, 10, 32])\n",
            "Attention weights shape: torch.Size([3, 4, 10, 10])\n"
          ]
        },
        {
          "output_type": "display_data",
          "data": {
            "text/plain": [
              "<Figure size 800x600 with 2 Axes>"
            ],
            "image/png": "[encoded data removed]"
          },
          "metadata": {}
        }
      ]
    },
    {
      "cell_type": "markdown",
      "source": [
        "Implementing Feed-Forward Network"
      ],
      "metadata": {
        "id": "Domc1GpS0XY3"
      }
    },
    {
      "cell_type": "code",
      "source": [
        "class FeedForward(nn.Module):\n",
        "  def __init__(self, embed_dim, ff_dim):\n",
        "      super(FeedForward, self).__init__()\n",
        "      self.fc1 = nn.Linear(embed_dim, ff_dim)\n",
        "      self.fc2 = nn.Linear(ff_dim, embed_dim)\n",
        "      self.activation = nn.GELU()  # GELU activation as used in modern transformers\n",
        "\n",
        "  def forward(self, x):\n",
        "      # x shape: (batch_size, seq_length, embed_dim)\n",
        "      x = self.fc1(x)  # (batch_size, seq_length, ff_dim)\n",
        "      x = self.activation(x)\n",
        "      x = self.fc2(x)  # (batch_size, seq_length, embed_dim)\n",
        "      return x\n",
        "# Test feed-forward network\n",
        "ff_dim = embed_dim * 4  # Common practice to use 4x the embedding dimension\n",
        "feed_forward = FeedForward(embed_dim, ff_dim).to(device) # Move feed_forward to the same device as attention_output\n",
        "ff_output = feed_forward(attention_output)\n",
        "print(f\"Feed-forward output shape: {ff_output.shape}\")"
      ],
      "metadata": {
        "colab": {
          "base_uri": "https://localhost:8080/"
        },
        "id": "iCaGzjQt3M0e",
        "outputId": "37206044-b7de-4c51-9baa-b671c62cf200"
      },
      "execution_count": null,
      "outputs": [
        {
          "output_type": "stream",
          "name": "stdout",
          "text": [
            "Feed-forward output shape: torch.Size([3, 10, 32])\n"
          ]
        }
      ]
    },
    {
      "cell_type": "markdown",
      "source": [
        "Implementing a Transformer Block"
      ],
      "metadata": {
        "id": "GkyTZW6I0Ztu"
      }
    },
    {
      "cell_type": "code",
      "source": [
        "class TransformerBlock(nn.Module):\n",
        "    def __init__(self, embed_dim, num_heads, ff_dim, dropout=0.1):\n",
        "        super(TransformerBlock, self).__init__()\n",
        "\n",
        "        self.attention = SelfAttention(embed_dim, num_heads)\n",
        "        self.norm1 = nn.LayerNorm(embed_dim)\n",
        "        self.norm2 = nn.LayerNorm(embed_dim)\n",
        "        self.feed_forward = FeedForward(embed_dim, ff_dim)\n",
        "        self.dropout = nn.Dropout(dropout)\n",
        "\n",
        "    def forward(self, x, mask=None):\n",
        "        # Pre-LN: Apply normalization before attention\n",
        "        norm_x = self.norm1(x)\n",
        "        attention_output, _ = self.attention(norm_x, mask)\n",
        "        x = x + self.dropout(attention_output)  # Residual connection\n",
        "\n",
        "        # Pre-LN: Apply normalization before feed-forward\n",
        "        norm_x = self.norm2(x)\n",
        "        ff_output = self.feed_forward(norm_x)\n",
        "        x = x + self.dropout(ff_output)  # Residual connection\n",
        "\n",
        "        return x\n",
        "# Test transformer block\n",
        "transformer_block = TransformerBlock(32, num_heads, ff_dim).to(device)\n",
        "block_output = transformer_block(embedded_with_pos.to(device), mask)\n",
        "print(f\"Transformer block output shape: {block_output.shape}\")"
      ],
      "metadata": {
        "colab": {
          "base_uri": "https://localhost:8080/"
        },
        "id": "d7hbj2afIkkj",
        "outputId": "02ad619f-3a7e-4b29-b70f-22a2fcf0adca"
      },
      "execution_count": null,
      "outputs": [
        {
          "output_type": "stream",
          "name": "stdout",
          "text": [
            "Transformer block output shape: torch.Size([3, 10, 32])\n"
          ]
        }
      ]
    },
    {
      "cell_type": "markdown",
      "source": [
        "Implementing the Complete Mini Language Model"
      ],
      "metadata": {
        "id": "kAqu20440cQp"
      }
    },
    {
      "cell_type": "code",
      "source": [
        "class MiniLanguageModel(nn.Module):\n",
        "  def __init__(self, vocab_size, embed_dim, num_heads, ff_dim, num_layers, max_seq_length, dropout=0.1):\n",
        "      super(MiniLanguageModel, self).__init__()\n",
        "\n",
        "      self.embed_dim = embed_dim\n",
        "      self.embedding = EmbeddingLayer(vocab_size, embed_dim)\n",
        "      self.positional_encoding = PositionalEncoding(embed_dim, max_seq_length)\n",
        "\n",
        "      self.transformer_blocks = nn.ModuleList(\n",
        "          [TransformerBlock(embed_dim, num_heads, ff_dim, dropout) for _ in range(num_layers)]\n",
        "      )\n",
        "\n",
        "      self.fc_out = nn.Linear(embed_dim, vocab_size)\n",
        "      self.dropout = nn.Dropout(dropout)\n",
        "\n",
        "  def forward(self, x):\n",
        "      # Create causal mask\n",
        "      seq_length = x.shape[1]\n",
        "      mask = create_causal_mask(seq_length).to(x.device)\n",
        "\n",
        "      # Embedding and positional encoding\n",
        "      x = self.embedding(x)\n",
        "      x = self.positional_encoding(x)\n",
        "      x = self.dropout(x)\n",
        "\n",
        "      # Transformer blocks\n",
        "      for block in self.transformer_blocks:\n",
        "          x = block(x, mask)\n",
        "\n",
        "      # Output layer\n",
        "      x = self.fc_out(x)  # (batch_size, seq_length, vocab_size)\n",
        "\n",
        "      return x\n",
        "# Model hyperparameters\n",
        "vocab_size = len(tokenizer)\n",
        "embed_dim = 64\n",
        "num_heads = 4\n",
        "ff_dim = embed_dim * 4\n",
        "num_layers = 2\n",
        "max_seq_length = 100\n",
        "dropout = 0.1\n",
        "# Initialize the model\n",
        "model = MiniLanguageModel(\n",
        "  vocab_size=vocab_size,\n",
        "  embed_dim=embed_dim,\n",
        "  num_heads=num_heads,\n",
        "  ff_dim=ff_dim,\n",
        "  num_layers=num_layers,\n",
        "  max_seq_length=max_seq_length,\n",
        "  dropout=dropout\n",
        ").to(device)\n",
        "# Print model summary\n",
        "print(model)\n",
        "# Test forward pass\n",
        "sample_batch = inputs[:5].to(device)  # Take 5 examples\n",
        "output = model(sample_batch)\n",
        "print(f\"Model output shape: {output.shape}\")  # Should be (batch_size, seq_length, vocab_size)"
      ],
      "metadata": {
        "colab": {
          "base_uri": "https://localhost:8080/"
        },
        "id": "nAk3BDlezk8z",
        "outputId": "920d6e8a-fdff-406d-ee4a-7dfd6e900085"
      },
      "execution_count": null,
      "outputs": [
        {
          "output_type": "stream",
          "name": "stdout",
          "text": [
            "MiniLanguageModel(\n",
            "  (embedding): EmbeddingLayer(\n",
            "    (embedding): Embedding(72, 64)\n",
            "  )\n",
            "  (positional_encoding): PositionalEncoding()\n",
            "  (transformer_blocks): ModuleList(\n",
            "    (0-1): 2 x TransformerBlock(\n",
            "      (attention): SelfAttention(\n",
            "        (qkv): Linear(in_features=64, out_features=192, bias=True)\n",
            "        (fc_out): Linear(in_features=64, out_features=64, bias=True)\n",
            "      )\n",
            "      (norm1): LayerNorm((64,), eps=1e-05, elementwise_affine=True)\n",
            "      (norm2): LayerNorm((64,), eps=1e-05, elementwise_affine=True)\n",
            "      (feed_forward): FeedForward(\n",
            "        (fc1): Linear(in_features=64, out_features=256, bias=True)\n",
            "        (fc2): Linear(in_features=256, out_features=64, bias=True)\n",
            "        (activation): GELU(approximate='none')\n",
            "      )\n",
            "      (dropout): Dropout(p=0.1, inplace=False)\n",
            "    )\n",
            "  )\n",
            "  (fc_out): Linear(in_features=64, out_features=72, bias=True)\n",
            "  (dropout): Dropout(p=0.1, inplace=False)\n",
            ")\n",
            "Model output shape: torch.Size([4, 10, 72])\n"
          ]
        }
      ]
    },
    {
      "cell_type": "markdown",
      "source": [
        "Training the Model"
      ],
      "metadata": {
        "id": "J3o28EY_0eiP"
      }
    },
    {
      "cell_type": "code",
      "source": [
        "def train_model(model, inputs, targets, batch_size=32, epochs=10, lr=3e-4):\n",
        "  \"\"\"Train the language model\"\"\"\n",
        "  # Define loss function and optimizer\n",
        "  criterion = nn.CrossEntropyLoss()\n",
        "  optimizer = torch.optim.Adam(model.parameters(), lr=lr)\n",
        "\n",
        "  # Create dataset and dataloader\n",
        "  dataset = torch.utils.data.TensorDataset(inputs, targets)\n",
        "  dataloader = torch.utils.data.DataLoader(dataset, batch_size=batch_size, shuffle=True)\n",
        "\n",
        "  # Training loop\n",
        "  model.train()\n",
        "  losses = []\n",
        "\n",
        "  for epoch in range(epochs):\n",
        "      epoch_loss = 0\n",
        "      for batch_idx, (batch_inputs, batch_targets) in enumerate(dataloader):\n",
        "          batch_inputs, batch_targets = batch_inputs.to(device), batch_targets.to(device)\n",
        "\n",
        "          # Forward pass\n",
        "          optimizer.zero_grad()\n",
        "          outputs = model(batch_inputs)\n",
        "\n",
        "          # Reshape outputs and targets for loss computation\n",
        "          outputs = outputs.reshape(-1, vocab_size)  # (batch_size * seq_length, vocab_size)\n",
        "          batch_targets = batch_targets.reshape(-1)  # (batch_size * seq_length)\n",
        "\n",
        "          # Compute loss\n",
        "          loss = criterion(outputs, batch_targets)\n",
        "\n",
        "          # Backward pass and optimization\n",
        "          loss.backward()\n",
        "          torch.nn.utils.clip_grad_norm_(model.parameters(), max_norm=1.0)  # Gradient clipping\n",
        "          optimizer.step()\n",
        "\n",
        "          epoch_loss += loss.item()\n",
        "\n",
        "          if batch_idx % 10 == 0:\n",
        "              print(f\"Epoch {epoch+1}/{epochs}, Batch {batch_idx}/{len(dataloader)}, Loss: {loss.item():.4f}\")\n",
        "\n",
        "      avg_epoch_loss = epoch_loss / len(dataloader)\n",
        "      losses.append(avg_epoch_loss)\n",
        "      print(f\"Epoch {epoch+1}/{epochs}, Average Loss: {avg_epoch_loss:.4f}\")\n",
        "\n",
        "  return losses\n",
        "# For the lab, we'll use a very small number of epochs\n",
        "epochs = 50\n",
        "batch_size = 16\n",
        "losses = train_model(model, inputs, targets, batch_size=batch_size, epochs=epochs)\n",
        "# Plot training loss\n",
        "plt.figure(figsize=(10, 5))\n",
        "plt.plot(losses)\n",
        "plt.xlabel('Epoch')\n",
        "plt.ylabel('Loss')\n",
        "plt.title('Training Loss')\n",
        "plt.grid(True)\n",
        "plt.show()"
      ],
      "metadata": {
        "colab": {
          "base_uri": "https://localhost:8080/",
          "height": 1000
        },
        "id": "80ZRQ89NzoD7",
        "outputId": "5af333cd-8ea0-454e-c52e-bb06468eac3c"
      },
      "execution_count": null,
      "outputs": [
        {
          "output_type": "stream",
          "name": "stdout",
          "text": [
            "Epoch 1/50, Batch 0/1, Loss: 11.6910\n",
            "Epoch 1/50, Average Loss: 11.6910\n",
            "Epoch 2/50, Batch 0/1, Loss: 11.4889\n",
            "Epoch 2/50, Average Loss: 11.4889\n",
            "Epoch 3/50, Batch 0/1, Loss: 10.6370\n",
            "Epoch 3/50, Average Loss: 10.6370\n",
            "Epoch 4/50, Batch 0/1, Loss: 10.6422\n",
            "Epoch 4/50, Average Loss: 10.6422\n",
            "Epoch 5/50, Batch 0/1, Loss: 10.0994\n",
            "Epoch 5/50, Average Loss: 10.0994\n",
            "Epoch 6/50, Batch 0/1, Loss: 9.9565\n",
            "Epoch 6/50, Average Loss: 9.9565\n",
            "Epoch 7/50, Batch 0/1, Loss: 9.6807\n",
            "Epoch 7/50, Average Loss: 9.6807\n",
            "Epoch 8/50, Batch 0/1, Loss: 9.3686\n",
            "Epoch 8/50, Average Loss: 9.3686\n",
            "Epoch 9/50, Batch 0/1, Loss: 9.5930\n",
            "Epoch 9/50, Average Loss: 9.5930\n",
            "Epoch 10/50, Batch 0/1, Loss: 9.0075\n",
            "Epoch 10/50, Average Loss: 9.0075\n",
            "Epoch 11/50, Batch 0/1, Loss: 9.1315\n",
            "Epoch 11/50, Average Loss: 9.1315\n",
            "Epoch 12/50, Batch 0/1, Loss: 8.3989\n",
            "Epoch 12/50, Average Loss: 8.3989\n",
            "Epoch 13/50, Batch 0/1, Loss: 8.6281\n",
            "Epoch 13/50, Average Loss: 8.6281\n",
            "Epoch 14/50, Batch 0/1, Loss: 8.0765\n",
            "Epoch 14/50, Average Loss: 8.0765\n",
            "Epoch 15/50, Batch 0/1, Loss: 7.7862\n",
            "Epoch 15/50, Average Loss: 7.7862\n",
            "Epoch 16/50, Batch 0/1, Loss: 7.4259\n",
            "Epoch 16/50, Average Loss: 7.4259\n",
            "Epoch 17/50, Batch 0/1, Loss: 7.5510\n",
            "Epoch 17/50, Average Loss: 7.5510\n",
            "Epoch 18/50, Batch 0/1, Loss: 7.5365\n",
            "Epoch 18/50, Average Loss: 7.5365\n",
            "Epoch 19/50, Batch 0/1, Loss: 7.3566\n",
            "Epoch 19/50, Average Loss: 7.3566\n",
            "Epoch 20/50, Batch 0/1, Loss: 7.1702\n",
            "Epoch 20/50, Average Loss: 7.1702\n",
            "Epoch 21/50, Batch 0/1, Loss: 6.6621\n",
            "Epoch 21/50, Average Loss: 6.6621\n",
            "Epoch 22/50, Batch 0/1, Loss: 6.4495\n",
            "Epoch 22/50, Average Loss: 6.4495\n",
            "Epoch 23/50, Batch 0/1, Loss: 6.6651\n",
            "Epoch 23/50, Average Loss: 6.6651\n",
            "Epoch 24/50, Batch 0/1, Loss: 6.7487\n",
            "Epoch 24/50, Average Loss: 6.7487\n",
            "Epoch 25/50, Batch 0/1, Loss: 6.3886\n",
            "Epoch 25/50, Average Loss: 6.3886\n",
            "Epoch 26/50, Batch 0/1, Loss: 5.5565\n",
            "Epoch 26/50, Average Loss: 5.5565\n",
            "Epoch 27/50, Batch 0/1, Loss: 5.6289\n",
            "Epoch 27/50, Average Loss: 5.6289\n",
            "Epoch 28/50, Batch 0/1, Loss: 5.3257\n",
            "Epoch 28/50, Average Loss: 5.3257\n",
            "Epoch 29/50, Batch 0/1, Loss: 5.4882\n",
            "Epoch 29/50, Average Loss: 5.4882\n",
            "Epoch 30/50, Batch 0/1, Loss: 5.1154\n",
            "Epoch 30/50, Average Loss: 5.1154\n",
            "Epoch 31/50, Batch 0/1, Loss: 4.8871\n",
            "Epoch 31/50, Average Loss: 4.8871\n",
            "Epoch 32/50, Batch 0/1, Loss: 5.0570\n",
            "Epoch 32/50, Average Loss: 5.0570\n",
            "Epoch 33/50, Batch 0/1, Loss: 4.8363\n",
            "Epoch 33/50, Average Loss: 4.8363\n",
            "Epoch 34/50, Batch 0/1, Loss: 4.4005\n",
            "Epoch 34/50, Average Loss: 4.4005\n",
            "Epoch 35/50, Batch 0/1, Loss: 4.1075\n",
            "Epoch 35/50, Average Loss: 4.1075\n",
            "Epoch 36/50, Batch 0/1, Loss: 4.0483\n",
            "Epoch 36/50, Average Loss: 4.0483\n",
            "Epoch 37/50, Batch 0/1, Loss: 4.0977\n",
            "Epoch 37/50, Average Loss: 4.0977\n",
            "Epoch 38/50, Batch 0/1, Loss: 3.7145\n",
            "Epoch 38/50, Average Loss: 3.7145\n",
            "Epoch 39/50, Batch 0/1, Loss: 3.4966\n",
            "Epoch 39/50, Average Loss: 3.4966\n",
            "Epoch 40/50, Batch 0/1, Loss: 3.3570\n",
            "Epoch 40/50, Average Loss: 3.3570\n",
            "Epoch 41/50, Batch 0/1, Loss: 3.3629\n",
            "Epoch 41/50, Average Loss: 3.3629\n",
            "Epoch 42/50, Batch 0/1, Loss: 3.2401\n",
            "Epoch 42/50, Average Loss: 3.2401\n",
            "Epoch 43/50, Batch 0/1, Loss: 3.2456\n",
            "Epoch 43/50, Average Loss: 3.2456\n",
            "Epoch 44/50, Batch 0/1, Loss: 2.8241\n",
            "Epoch 44/50, Average Loss: 2.8241\n",
            "Epoch 45/50, Batch 0/1, Loss: 2.6851\n",
            "Epoch 45/50, Average Loss: 2.6851\n",
            "Epoch 46/50, Batch 0/1, Loss: 2.6592\n",
            "Epoch 46/50, Average Loss: 2.6592\n",
            "Epoch 47/50, Batch 0/1, Loss: 2.2063\n",
            "Epoch 47/50, Average Loss: 2.2063\n",
            "Epoch 48/50, Batch 0/1, Loss: 2.5595\n",
            "Epoch 48/50, Average Loss: 2.5595\n",
            "Epoch 49/50, Batch 0/1, Loss: 2.3564\n",
            "Epoch 49/50, Average Loss: 2.3564\n",
            "Epoch 50/50, Batch 0/1, Loss: 2.6253\n",
            "Epoch 50/50, Average Loss: 2.6253\n"
          ]
        },
        {
          "output_type": "display_data",
          "data": {
            "text/plain": [
              "<Figure size 1000x500 with 1 Axes>"
            ],
            "image/png": "[encoded data removed]"
          },
          "metadata": {}
        }
      ]
    },
    {
      "cell_type": "markdown",
      "source": [
        "Generating Text with the Model"
      ],
      "metadata": {
        "id": "BzXt-Z3r0iCN"
      }
    },
    {
      "cell_type": "code",
      "source": [
        "def generate_text(model, tokenizer, prompt, max_length=100, temperature=1.0):\n",
        "  \"\"\"Generate text using the trained model\"\"\"\n",
        "  model.eval()\n",
        "\n",
        "  # Tokenize the prompt\n",
        "  prompt_tokens = tokenizer.encode(prompt)\n",
        "  input_ids = torch.tensor(prompt_tokens).unsqueeze(0).to(device)  # (1, prompt_length)\n",
        "\n",
        "  # Generate text\n",
        "  generated = list(prompt_tokens)\n",
        "\n",
        "  with torch.no_grad():\n",
        "      for _ in range(max_length):\n",
        "          # Take the last seq_length tokens if input is too long\n",
        "          if input_ids.size(1) > seq_length:\n",
        "              input_ids = input_ids[:, -seq_length:]\n",
        "\n",
        "          # Forward pass\n",
        "          outputs = model(input_ids)\n",
        "\n",
        "          # Get the next token probabilities\n",
        "          next_token_logits = outputs[:, -1, :] / temperature\n",
        "\n",
        "          # Sample from the distribution\n",
        "          probs = F.softmax(next_token_logits, dim=-1)\n",
        "          next_token = torch.multinomial(probs, num_samples=1)\n",
        "\n",
        "          # Add the next token to the sequence\n",
        "          input_ids = torch.cat([input_ids, next_token], dim=1)\n",
        "          generated.append(next_token.item())\n",
        "\n",
        "          # Stop if we generate the end of sentence token (if you have one)\n",
        "          # if next_token.item() == eos_token_id:\n",
        "          #     break\n",
        "\n",
        "  # Convert back to text\n",
        "  generated_text = tokenizer.decode(generated)\n",
        "\n",
        "  return generated_text\n",
        "# Generate text\n",
        "prompt = \"language models\"\n",
        "generated_text = generate_text(\n",
        "  model=model,\n",
        "  tokenizer=tokenizer,\n",
        "  prompt=prompt,\n",
        "  max_length=15,\n",
        "  temperature=0.5\n",
        ")\n",
        "print(f\"Prompt: {prompt}\")\n",
        "print(f\"Generated text: {generated_text}\")"
      ],
      "metadata": {
        "colab": {
          "base_uri": "https://localhost:8080/"
        },
        "id": "B_8rJIj-zrLu",
        "outputId": "5ae2fb46-fac3-4273-ca89-b7c3650507e6"
      },
      "execution_count": null,
      "outputs": [
        {
          "output_type": "stream",
          "name": "stdout",
          "text": [
            "Prompt: language models\n",
            "Generated text: language models focus in a continuous mechanism gpt neural networks learn to represent words as vectors transformer\n"
          ]
        }
      ]
    }
  ]
}